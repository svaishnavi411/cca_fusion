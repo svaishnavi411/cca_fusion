{
 "cells": [
  {
   "cell_type": "code",
   "execution_count": 1,
   "metadata": {},
   "outputs": [],
   "source": [
    "import pandas as pd\n",
    "import numpy as np\n",
    "from glob import glob\n",
    "from scipy.io import loadmat"
   ]
  },
  {
   "cell_type": "code",
   "execution_count": 4,
   "metadata": {},
   "outputs": [],
   "source": [
    "num_genes_list = [500, 800, 1000, 3000]\n",
    "results_loc = '../../results/'"
   ]
  },
  {
   "cell_type": "code",
   "execution_count": 5,
   "metadata": {},
   "outputs": [],
   "source": [
    "gcca_result = []\n",
    "for suffix in ['no_prior', 'prior']:\n",
    "    for num_genes in num_genes_list:\n",
    "        for fold in range(5):\n",
    "            curr_result = glob(results_loc + 'brca_1_gcca/' + str(num_genes) + '_' + \n",
    "                               suffix + '/' + str(fold) + '*')[0]\n",
    "            test_corr = (loadmat(curr_result)['test_correlation'][0][0])\n",
    "            gcca_result.append(['gcca_' + suffix, num_genes, fold, test_corr])"
   ]
  },
  {
   "cell_type": "code",
   "execution_count": 6,
   "metadata": {},
   "outputs": [],
   "source": [
    "scca_result = []\n",
    "for num_genes in num_genes_list:\n",
    "    for fold in range(5):\n",
    "        curr_result = glob(results_loc + 'brca_1_scca/' + str(num_genes) +\n",
    "                           '/' + str(fold) + '*')[0]\n",
    "        test_corr = (loadmat(curr_result)['test_correlation'][0][0])\n",
    "        scca_result.append(['scca', num_genes, fold, test_corr])"
   ]
  },
  {
   "cell_type": "code",
   "execution_count": 7,
   "metadata": {},
   "outputs": [],
   "source": [
    "results = gcca_result + scca_result"
   ]
  },
  {
   "cell_type": "code",
   "execution_count": 8,
   "metadata": {},
   "outputs": [],
   "source": [
    "results_df = pd.DataFrame(results, columns =['method', 'num_genes', 'fold', 'test_corr']) "
   ]
  },
  {
   "cell_type": "code",
   "execution_count": 9,
   "metadata": {},
   "outputs": [
    {
     "name": "stdout",
     "output_type": "stream",
     "text": [
      "500\t & 0.39 $\\pm$ 0.11\t & 0.50 $\\pm$ 0.09\t & 0.51 $\\pm$ 0.08 \\\\\n",
      "800\t & 0.41 $\\pm$ 0.11\t & 0.55 $\\pm$ 0.09\t & 0.52 $\\pm$ 0.06 \\\\\n",
      "1000\t & 0.46 $\\pm$ 0.02\t & 0.55 $\\pm$ 0.09\t & 0.49 $\\pm$ 0.04 \\\\\n",
      "3000\t & 0.36 $\\pm$ 0.18\t & 0.56 $\\pm$ 0.09\t & 0.40 $\\pm$ 0.13 \\\\\n"
     ]
    }
   ],
   "source": [
    "methods_all = ['scca', 'gcca_no_prior', 'gcca_prior']\n",
    "mapping_methods = {'scca':'1-SCCA \\t\\t',\n",
    "                   'gcca_no_prior':'1-GCCA \\t',\n",
    "                   'gcca_prior': '1-GCCA-Prior \\t'}\n",
    " \n",
    "num_genes_all = [500, 800, 1000, 3000]\n",
    "folds = [0,1,2,3,4]\n",
    "\n",
    "for curr_gene in num_genes_all:\n",
    "    curr_row = [str(curr_gene)]\n",
    "\n",
    "    for curr_method in methods_all:\n",
    "        temp_df = results_df[results_df['method'] == curr_method]\n",
    "        temp_df = temp_df[temp_df['num_genes'] == curr_gene]\n",
    "        temp_mean = temp_df.mean()['test_corr']\n",
    "        temp_std = temp_df.std()['test_corr']\n",
    "        curr_row.append('{0:.2f}'.format(temp_mean) +  ' $\\pm$ ' + '{0:.2f}'.format(temp_std))\n",
    "    print('\\t & '.join(curr_row) + ' \\\\\\\\' )"
   ]
  },
  {
   "cell_type": "code",
   "execution_count": null,
   "metadata": {},
   "outputs": [],
   "source": []
  }
 ],
 "metadata": {
  "kernelspec": {
   "display_name": "Python3 (graph-survival)",
   "language": "python",
   "name": "graph_survival"
  },
  "language_info": {
   "codemirror_mode": {
    "name": "ipython",
    "version": 3
   },
   "file_extension": ".py",
   "mimetype": "text/x-python",
   "name": "python",
   "nbconvert_exporter": "python",
   "pygments_lexer": "ipython3",
   "version": "3.6.9"
  }
 },
 "nbformat": 4,
 "nbformat_minor": 2
}
