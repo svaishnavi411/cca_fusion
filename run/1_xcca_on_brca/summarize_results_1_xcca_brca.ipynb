{
 "cells": [
  {
   "cell_type": "code",
   "execution_count": 1,
   "metadata": {},
   "outputs": [],
   "source": [
    "import pandas as pd\n",
    "import numpy as np\n",
    "from glob import glob\n",
    "from scipy.io import loadmat"
   ]
  },
  {
   "cell_type": "code",
   "execution_count": 2,
   "metadata": {},
   "outputs": [],
   "source": [
    "num_genes_list = [500, 800, 1000, 3000]\n",
    "results_loc = '../results/'"
   ]
  },
  {
   "cell_type": "code",
   "execution_count": 3,
   "metadata": {},
   "outputs": [
    {
     "ename": "IndexError",
     "evalue": "list index out of range",
     "output_type": "error",
     "traceback": [
      "\u001b[0;31m---------------------------------------------------------------------------\u001b[0m",
      "\u001b[0;31mIndexError\u001b[0m                                Traceback (most recent call last)",
      "\u001b[0;32m<ipython-input-3-c94688778f5d>\u001b[0m in \u001b[0;36m<module>\u001b[0;34m\u001b[0m\n\u001b[1;32m      4\u001b[0m         \u001b[0;32mfor\u001b[0m \u001b[0mfold\u001b[0m \u001b[0;32min\u001b[0m \u001b[0mrange\u001b[0m\u001b[0;34m(\u001b[0m\u001b[0;36m5\u001b[0m\u001b[0;34m)\u001b[0m\u001b[0;34m:\u001b[0m\u001b[0;34m\u001b[0m\u001b[0;34m\u001b[0m\u001b[0m\n\u001b[1;32m      5\u001b[0m             curr_result = glob(results_loc + 'brca_1_gcca/' + str(num_genes) + '_' + \n\u001b[0;32m----> 6\u001b[0;31m                                suffix + '/' + str(fold) + '*')[0]\n\u001b[0m\u001b[1;32m      7\u001b[0m             \u001b[0mtest_corr\u001b[0m \u001b[0;34m=\u001b[0m \u001b[0;34m(\u001b[0m\u001b[0mloadmat\u001b[0m\u001b[0;34m(\u001b[0m\u001b[0mcurr_result\u001b[0m\u001b[0;34m)\u001b[0m\u001b[0;34m[\u001b[0m\u001b[0;34m'test_correlation'\u001b[0m\u001b[0;34m]\u001b[0m\u001b[0;34m[\u001b[0m\u001b[0;36m0\u001b[0m\u001b[0;34m]\u001b[0m\u001b[0;34m[\u001b[0m\u001b[0;36m0\u001b[0m\u001b[0;34m]\u001b[0m\u001b[0;34m)\u001b[0m\u001b[0;34m\u001b[0m\u001b[0;34m\u001b[0m\u001b[0m\n\u001b[1;32m      8\u001b[0m             \u001b[0mgcca_result\u001b[0m\u001b[0;34m.\u001b[0m\u001b[0mappend\u001b[0m\u001b[0;34m(\u001b[0m\u001b[0;34m[\u001b[0m\u001b[0;34m'gcca_'\u001b[0m \u001b[0;34m+\u001b[0m \u001b[0msuffix\u001b[0m\u001b[0;34m,\u001b[0m \u001b[0mnum_genes\u001b[0m\u001b[0;34m,\u001b[0m \u001b[0mfold\u001b[0m\u001b[0;34m,\u001b[0m \u001b[0mtest_corr\u001b[0m\u001b[0;34m]\u001b[0m\u001b[0;34m)\u001b[0m\u001b[0;34m\u001b[0m\u001b[0;34m\u001b[0m\u001b[0m\n",
      "\u001b[0;31mIndexError\u001b[0m: list index out of range"
     ]
    }
   ],
   "source": [
    "gcca_result = []\n",
    "for suffix in ['no_prior', 'prior']:\n",
    "    for num_genes in num_genes_list:\n",
    "        for fold in range(5):\n",
    "            curr_result = glob(results_loc + 'brca_1_gcca/' + str(num_genes) + '_' + \n",
    "                               suffix + '/' + str(fold) + '*')[0]\n",
    "            test_corr = (loadmat(curr_result)['test_correlation'][0][0])\n",
    "            gcca_result.append(['gcca_' + suffix, num_genes, fold, test_corr])"
   ]
  },
  {
   "cell_type": "code",
   "execution_count": null,
   "metadata": {},
   "outputs": [],
   "source": [
    "scca_result = []\n",
    "for num_genes in num_genes_list:\n",
    "    for fold in range(5):\n",
    "        curr_result = glob(results_loc + 'brca_1_scca/' + str(num_genes) +\n",
    "                           '/' + str(fold) + '*')[0]\n",
    "        test_corr = (loadmat(curr_result)['test_correlation'][0][0])\n",
    "        scca_result.append(['scca', num_genes, fold, test_corr])"
   ]
  },
  {
   "cell_type": "code",
   "execution_count": null,
   "metadata": {},
   "outputs": [],
   "source": [
    "results = gcca_result + scca_result"
   ]
  },
  {
   "cell_type": "code",
   "execution_count": null,
   "metadata": {},
   "outputs": [],
   "source": [
    "results_df = pd.DataFrame(results, columns =['method', 'num_genes', 'fold', 'test_corr']) "
   ]
  },
  {
   "cell_type": "code",
   "execution_count": null,
   "metadata": {},
   "outputs": [],
   "source": [
    "methods_all = ['scca', 'gcca_no_prior', 'gcca_prior']\n",
    "mapping_methods = {'scca':'1-SCCA \\t\\t',\n",
    "                   'gcca_no_prior':'1-GCCA \\t',\n",
    "                   'gcca_prior': '1-GCCA-Prior \\t'}\n",
    " \n",
    "num_genes_all = [500, 800, 1000, 3000]\n",
    "folds = [0,1,2,3,4]\n",
    "\n",
    "for curr_gene in num_genes_all:\n",
    "    curr_row = [str(curr_gene)]\n",
    "\n",
    "    for curr_method in methods_all:\n",
    "        temp_df = results_df[results_df['method'] == curr_method]\n",
    "        temp_df = temp_df[temp_df['num_genes'] == curr_gene]\n",
    "        temp_mean = temp_df.mean()['test_corr']\n",
    "        temp_std = temp_df.std()['test_corr']\n",
    "        curr_row.append('{0:.2f}'.format(temp_mean) +  ' $\\pm$ ' + '{0:.2f}'.format(temp_std))\n",
    "    print('\\t & '.join(curr_row) + ' \\\\\\\\' )"
   ]
  },
  {
   "cell_type": "code",
   "execution_count": null,
   "metadata": {},
   "outputs": [],
   "source": []
  }
 ],
 "metadata": {
  "kernelspec": {
   "display_name": "Python3 (graph-survival)",
   "language": "python",
   "name": "graph_survival"
  },
  "language_info": {
   "codemirror_mode": {
    "name": "ipython",
    "version": 3
   },
   "file_extension": ".py",
   "mimetype": "text/x-python",
   "name": "python",
   "nbconvert_exporter": "python",
   "pygments_lexer": "ipython3",
   "version": "3.6.9"
  }
 },
 "nbformat": 4,
 "nbformat_minor": 2
}
