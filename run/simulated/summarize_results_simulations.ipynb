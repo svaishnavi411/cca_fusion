{
 "cells": [
  {
   "cell_type": "code",
   "execution_count": 1,
   "metadata": {},
   "outputs": [],
   "source": [
    "import pandas as pd\n",
    "import numpy as np"
   ]
  },
  {
   "cell_type": "code",
   "execution_count": 2,
   "metadata": {},
   "outputs": [
    {
     "name": "stdout",
     "output_type": "stream",
     "text": [
      "      n    p    q  degree  noise_sigma  itr   u_error   v_error  corr_error  \\\n",
      "0  1000  100  100       5          0.5    1  0.088735  0.764661    0.050234   \n",
      "1  1000  100  100       5          0.5    2  0.077944  0.017068    0.061811   \n",
      "2  1000  100  100       5          0.5    3  0.070018  0.010772    0.029709   \n",
      "3  1000  100  100       5          0.5    4  0.296711  0.014871    0.030067   \n",
      "4  1000  100  100       5          0.5    5  0.067170  0.082024    0.007244   \n",
      "\n",
      "   freq_error  Method  \n",
      "0    0.392400  1-SCCA  \n",
      "1    0.521976  1-SCCA  \n",
      "2    0.696341  1-SCCA  \n",
      "3    0.753585  1-SCCA  \n",
      "4    0.558167  1-SCCA  \n",
      "        n    p    q  degree  noise_sigma  itr   u_error   v_error  corr_error  \\\n",
      "195  1000  100  100      50         0.75   21  0.471910  0.041567    0.072034   \n",
      "196  1000  100  100      50         0.75   22  0.519288  0.047392    0.035987   \n",
      "197  1000  100  100      50         0.75   23  0.484647  0.108762    0.017427   \n",
      "198  1000  100  100      50         0.75   24  0.713371  0.222203    0.209768   \n",
      "199  1000  100  100      50         0.75   25  0.991532  0.948449    0.270997   \n",
      "\n",
      "     freq_error        Method  \n",
      "195    0.615290  1-GCCA-Prior  \n",
      "196    0.607590  1-GCCA-Prior  \n",
      "197    0.031162  1-GCCA-Prior  \n",
      "198    0.812537  1-GCCA-Prior  \n",
      "199    0.768861  1-GCCA-Prior  \n",
      "        n    p    q  degree  noise_sigma  itr   u_error   v_error  corr_error  \\\n",
      "0    1000  100  100       5         0.50    1  0.088735  0.764661    0.050234   \n",
      "1    1000  100  100       5         0.50    2  0.077944  0.017068    0.061811   \n",
      "2    1000  100  100       5         0.50    3  0.070018  0.010772    0.029709   \n",
      "3    1000  100  100       5         0.50    4  0.296711  0.014871    0.030067   \n",
      "4    1000  100  100       5         0.50    5  0.067170  0.082024    0.007244   \n",
      "..    ...  ...  ...     ...          ...  ...       ...       ...         ...   \n",
      "195  1000  100  100      50         0.75   21  0.471910  0.041567    0.072034   \n",
      "196  1000  100  100      50         0.75   22  0.519288  0.047392    0.035987   \n",
      "197  1000  100  100      50         0.75   23  0.484647  0.108762    0.017427   \n",
      "198  1000  100  100      50         0.75   24  0.713371  0.222203    0.209768   \n",
      "199  1000  100  100      50         0.75   25  0.991532  0.948449    0.270997   \n",
      "\n",
      "     freq_error        Method  \n",
      "0      0.392400        1-SCCA  \n",
      "1      0.521976        1-SCCA  \n",
      "2      0.696341        1-SCCA  \n",
      "3      0.753585        1-SCCA  \n",
      "4      0.558167        1-SCCA  \n",
      "..          ...           ...  \n",
      "195    0.615290  1-GCCA-Prior  \n",
      "196    0.607590  1-GCCA-Prior  \n",
      "197    0.031162  1-GCCA-Prior  \n",
      "198    0.812537  1-GCCA-Prior  \n",
      "199    0.768861  1-GCCA-Prior  \n",
      "\n",
      "[600 rows x 11 columns]\n"
     ]
    }
   ],
   "source": [
    "curr_results = '../../results/simulation_scca/results_scca.txt'\n",
    "results = pd.read_table(curr_results, sep=',')\n",
    "curr_results1 = '../../results/simulation_gcca/results_gcca_no-prior.txt'\n",
    "results1 = pd.read_table(curr_results1, sep=',')\n",
    "curr_results2 = '../../results/simulation_gcca/results_gcca_prior1.txt'\n",
    "results2 = pd.read_table(curr_results2, sep=',')\n",
    "\n",
    "results = pd.concat([results, results1,  results2])\n",
    "results = results.rename(columns={\"method\": \"Method\"})\n",
    "\n",
    "results = results.replace(\"GCCAprior1\", \"1-GCCA-Prior\")\n",
    "results = results.replace(\"GCCAno-prior\", \"1-GCCA\")\n",
    "results = results.replace(\"SCCA\", \"1-SCCA\")\n",
    "\n",
    "print(results.head())\n",
    "print(results.tail())\n",
    "print(results)\n",
    "save_name = 'isbi'"
   ]
  },
  {
   "cell_type": "code",
   "execution_count": 3,
   "metadata": {},
   "outputs": [
    {
     "name": "stdout",
     "output_type": "stream",
     "text": [
      "[0.5, 0.75]\n",
      "[5, 10, 25, 50]\n",
      "\\begin{tabular}{cccc}\n",
      "u_error & \t44.54 $\\pm$ 34.26 & \t44.24 $\\pm$ 24.31 & \t31.95 $\\pm$ 20.64 \\\\\n",
      "v_error & \t43.89 $\\pm$ 41.42 & \t15.83 $\\pm$ 20.61 & \t11.86 $\\pm$ 16.17 \\\\\n",
      "corr_error & \t13.56 $\\pm$ 13.37 & \t10.19 $\\pm$ 8.61 & \t6.30 $\\pm$ 6.75 \\\\\n",
      "freq_error & \t124.24 $\\pm$ 142.92 & \t105.74 $\\pm$ 105.81 & \t42.32 $\\pm$ 60.02 \\\\\n",
      "\\end{tabular}\n"
     ]
    }
   ],
   "source": [
    "list_of_errors = ['u_error', 'v_error', 'corr_error', 'freq_error']\n",
    "methods_all = ['1-SCCA', '1-GCCA', '1-GCCA-Prior']\n",
    "\n",
    "noise_all = sorted(list(set(results['noise_sigma'].values)))\n",
    "print(noise_all)\n",
    "degree_all = sorted(list(set(results['degree'].values)))\n",
    "print(degree_all)\n",
    "\n",
    "print(\"\\\\begin{tabular}{cccc}\")\n",
    "\n",
    "for curr_error in list_of_errors:\n",
    "    curr_row = [curr_error]       \n",
    "    for curr_method in methods_all: \n",
    "        temp_df = results[results['Method'] == curr_method]\n",
    "        temp_mean = temp_df.mean()[curr_error]\n",
    "        temp_std = temp_df.std()[curr_error]\n",
    "        curr_row.append('{0:.2f}'.format(temp_mean*100) +  ' $\\pm$ ' + '{0:.2f}'.format(temp_std*100))\n",
    "        \n",
    "    print(' & \\t'.join(curr_row) + ' \\\\\\\\' )\n",
    "print(\"\\\\end{tabular}\")\n"
   ]
  },
  {
   "cell_type": "code",
   "execution_count": null,
   "metadata": {},
   "outputs": [],
   "source": []
  },
  {
   "cell_type": "code",
   "execution_count": null,
   "metadata": {},
   "outputs": [],
   "source": []
  },
  {
   "cell_type": "code",
   "execution_count": null,
   "metadata": {},
   "outputs": [],
   "source": []
  }
 ],
 "metadata": {
  "kernelspec": {
   "display_name": "Python3 (graph-survival)",
   "language": "python",
   "name": "graph_survival"
  },
  "language_info": {
   "codemirror_mode": {
    "name": "ipython",
    "version": 3
   },
   "file_extension": ".py",
   "mimetype": "text/x-python",
   "name": "python",
   "nbconvert_exporter": "python",
   "pygments_lexer": "ipython3",
   "version": "3.6.9"
  }
 },
 "nbformat": 4,
 "nbformat_minor": 2
}
