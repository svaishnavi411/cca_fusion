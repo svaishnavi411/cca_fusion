{
 "cells": [
  {
   "cell_type": "code",
   "execution_count": 1,
   "metadata": {},
   "outputs": [],
   "source": [
    "import pandas as pd\n",
    "import numpy as np\n",
    "from glob import glob\n",
    "\n",
    "from scipy.io import loadmat\n",
    "from ml_model_utils import *"
   ]
  },
  {
   "cell_type": "code",
   "execution_count": 2,
   "metadata": {},
   "outputs": [],
   "source": [
    "base_dir = '/mnt/data0-nfs/shared-datasets/cancer_multimodal/tcga-brca/'\n",
    "results_loc = '/mnt/data0-nfs/vs5/repos/structured_cca/isbi_cleaned_up/7_results/'\n",
    "\n",
    "clinical_dir = '/mnt/data0-nfs/shared-datasets/cancer_multimodal/TCGA/clinical/'\n",
    "save_dir = '/mnt/data0-nfs/shared-datasets/cancer_multimodal/TCGA/clinical_parsed/'\n",
    "geno_dir = '/mnt/data0-nfs/shared-datasets/cancer_multimodal/TCGA/genomics/'\n",
    "data_loc = '/mnt/data0-nfs/shared-datasets/cancer_multimodal/tcga-brca/splits/'  "
   ]
  },
  {
   "cell_type": "code",
   "execution_count": 3,
   "metadata": {},
   "outputs": [],
   "source": [
    "results = []\n",
    "d=50;"
   ]
  },
  {
   "cell_type": "markdown",
   "metadata": {},
   "source": [
    "Run classifications using single modality and early/late fusions"
   ]
  },
  {
   "cell_type": "code",
   "execution_count": 4,
   "metadata": {},
   "outputs": [],
   "source": [
    "for num_genes in [500, 800, 1000, 3000]:\n",
    "    \n",
    "    for fold_num in range(5):\n",
    "    \n",
    "        genomics, imaging, binary = get_patients_info(clinical_dir, data_loc, num_genes, fold_num)\n",
    "        \n",
    "        error, pred, score = RF_trainer(genomics[\"train\"], genomics[\"test\"],  binary[\"train\"], binary[\"test\"], d=d)\n",
    "        results.append([\"Genomics\", num_genes, error[0], error[1], error[2], error[3], error[4]])\n",
    "\n",
    "        error, pred, score = RF_trainer(imaging[\"train\"], imaging[\"test\"],  binary[\"train\"], binary[\"test\"], d=d)\n",
    "        results.append([\"Imaging\", num_genes, error[0], error[1], error[2], error[3], error[4]])\n",
    "        \n",
    "        # Early fusion\n",
    "        X_train = np.concatenate((genomics[\"train\"], imaging[\"train\"]), axis=1)\n",
    "        X_test = np.concatenate((genomics[\"test\"], imaging[\"test\"]), axis=1)\n",
    "\n",
    "        error, pred, score = RF_trainer(X_train, X_test,  binary[\"train\"], binary[\"test\"], d=2*d)\n",
    "        results.append([\"EF\", num_genes, error[0], error[1], error[2], error[3], error[4]])\n",
    "        \n",
    "        error, pred, score = RF_LF_trainer(genomics[\"train\"], genomics[\"test\"], \n",
    "                                           imaging[\"train\"], imaging[\"test\"], binary[\"train\"], binary[\"test\"], d=d)\n",
    "        results.append([\"LF\", num_genes, error[0], error[1], error[2], error[3], error[4]])"
   ]
  },
  {
   "cell_type": "markdown",
   "metadata": {},
   "source": [
    "Run classifications using SCCA-based fusion"
   ]
  },
  {
   "cell_type": "code",
   "execution_count": 5,
   "metadata": {},
   "outputs": [],
   "source": [
    "for num_genes in [500, 800, 1000, 3000]:\n",
    "    \n",
    "    for fold_num in range(5):\n",
    "        \n",
    "        genomics, imaging, binary = get_patients_info(clinical_dir, data_loc, num_genes, fold_num)\n",
    "                       \n",
    "        values = loadmat(results_loc + 'brca_k_scca/' + str(num_genes) + '/' + str(fold_num) + '.mat')\n",
    "        U = (np.squeeze(values['U']))\n",
    "        V = (np.squeeze(values['V']))\n",
    "\n",
    "        Xproject_train = np.dot(genomics[\"train\"],U).astype(np.float64)\n",
    "        Yproject_train = np.dot(imaging[\"train\"],V).astype(np.float64)\n",
    "\n",
    "        Xproject_test = np.dot(genomics[\"test\"],U).astype(np.float64)\n",
    "        Yproject_test = np.dot(imaging[\"test\"],V).astype(np.float64)\n",
    "\n",
    "        E_train = np.concatenate((Xproject_train[:, :100], Yproject_train[:, :100]), axis=1)\n",
    "        E_test = np.concatenate((Xproject_test[:, :100], Yproject_test[:, :100]), axis=1)\n",
    "\n",
    "        error, pred, score = RF_trainer(E_train, E_test, binary[\"train\"], binary[\"test\"], d=d)\n",
    "        results.append([\"SCCAF\", num_genes, error[0], error[1], error[2], error[3], error[4]])"
   ]
  },
  {
   "cell_type": "markdown",
   "metadata": {},
   "source": [
    "Run classifications using GCCA-based fusion"
   ]
  },
  {
   "cell_type": "code",
   "execution_count": 6,
   "metadata": {},
   "outputs": [],
   "source": [
    "for num_genes in [500, 800, 1000, 3000]:\n",
    "\n",
    "    for fold_num in range(5):\n",
    "        \n",
    "        genomics, imaging, binary = get_patients_info(clinical_dir, data_loc, num_genes, fold_num)\n",
    "        \n",
    "        values = loadmat(results_loc + 'brca_k_gcca/' + str(num_genes) + '_no_prior/' + str(fold_num) + '.mat')\n",
    "        U = (np.squeeze(values['U']))\n",
    "        V = (np.squeeze(values['V']))\n",
    "\n",
    "        Xproject_train = np.dot(genomics[\"train\"],U).astype(np.float64)\n",
    "        Yproject_train = np.dot(imaging[\"train\"],V).astype(np.float64)\n",
    "\n",
    "        Xproject_test = np.dot(genomics[\"test\"],U).astype(np.float64)\n",
    "        Yproject_test = np.dot(imaging[\"test\"],V).astype(np.float64)\n",
    "\n",
    "        E_train = np.concatenate((Xproject_train[:, :100], Yproject_train[:, :100]), axis=1)\n",
    "        E_test = np.concatenate((Xproject_test[:, :100], Yproject_test[:, :100]), axis=1)\n",
    "\n",
    "        error, pred, score = RF_trainer(E_train, E_test, binary[\"train\"], binary[\"test\"], d=d)\n",
    "        results.append([\"GNCCAF\", num_genes, error[0], error[1], error[2], error[3], error[4]])\n",
    "\n",
    "        values = loadmat(results_loc + 'brca_k_gcca/' + str(num_genes) + '_prior/' + str(fold_num) + '.mat')\n",
    "        U = (np.squeeze(values['U']))\n",
    "        V = (np.squeeze(values['V']))\n",
    "\n",
    "        Xproject_train = np.dot(genomics[\"train\"],U).astype(np.float64)\n",
    "        Yproject_train = np.dot(imaging[\"train\"],V).astype(np.float64)\n",
    "\n",
    "        Xproject_test = np.dot(genomics[\"test\"],U).astype(np.float64)\n",
    "        Yproject_test = np.dot(imaging[\"test\"],V).astype(np.float64)\n",
    "\n",
    "        E_train = np.concatenate((Xproject_train[:, :100], Yproject_train[:, :100]), axis=1)\n",
    "        E_test = np.concatenate((Xproject_test[:, :100], Yproject_test[:, :100]), axis=1)\n",
    "\n",
    "        error, pred, score = RF_trainer(E_train, E_test, binary[\"train\"], binary[\"test\"], d=d)\n",
    "        results.append([\"Prior-CCAF\", num_genes, error[0], error[1], error[2], error[3], error[4]])"
   ]
  },
  {
   "cell_type": "code",
   "execution_count": 7,
   "metadata": {},
   "outputs": [],
   "source": [
    "columns_all = ['Method', 'num_genes', 'Acc', 'Prec', 'Rec', 'F1', 'AUC']\n",
    "results_df = pd.DataFrame(results, columns=columns_all)"
   ]
  },
  {
   "cell_type": "code",
   "execution_count": 16,
   "metadata": {},
   "outputs": [
    {
     "name": "stdout",
     "output_type": "stream",
     "text": [
      "Method \t\t\t& 500\t\t\t& 800\t\t\t& 1000\t\t\t& 3000\n",
      "Genomics\t & 55.44 $\\pm$ 1.90\t & 58.39 $\\pm$ 2.56\t & 54.85 $\\pm$ 2.80\t & 58.36 $\\pm$ 2.29 \\\\\n",
      "Imaging\t\t & 60.92 $\\pm$ 1.17\t & 60.92 $\\pm$ 1.17\t & 60.92 $\\pm$ 1.17\t & 60.92 $\\pm$ 1.17 \\\\\n",
      "Early Fusion\t & 57.06 $\\pm$ 5.55\t & 58.61 $\\pm$ 3.53\t & 58.98 $\\pm$ 1.01\t & 60.97 $\\pm$ 1.75 \\\\\n",
      "Late Fusion\t & 53.44 $\\pm$ 2.19\t & 53.80 $\\pm$ 3.20\t & 52.02 $\\pm$ 3.73\t & 53.64 $\\pm$ 4.04 \\\\\n",
      "100-SCCA\t & 57.91 $\\pm$ 3.40\t & 59.03 $\\pm$ 2.23\t & 59.40 $\\pm$ 3.41\t & 56.89 $\\pm$ 0.84 \\\\\n",
      "100-GCCA\t & 56.36 $\\pm$ 3.16\t & 57.11 $\\pm$ 3.02\t & 57.92 $\\pm$ 0.97\t & 58.69 $\\pm$ 2.16 \\\\\n",
      "100-GCCA-Prior\t & 56.23 $\\pm$ 2.23\t & 58.52 $\\pm$ 4.75\t & 57.42 $\\pm$ 1.84\t & 59.80 $\\pm$ 2.89 \\\\\n"
     ]
    }
   ],
   "source": [
    "methods_all = ['Genomics', 'Imaging', 'EF', 'LF', 'SCCAF', 'GNCCAF', 'Prior-CCAF']\n",
    "mapping_methods = {'Genomics': 'Genomics', \n",
    "                   'Imaging': 'Imaging\\t',\n",
    "                   'EF': 'Early Fusion', \n",
    "                   'LF': 'Late Fusion', \n",
    "                   'SCCAF': '100-SCCA', \n",
    "                   'GNCCAF': '100-GCCA',\n",
    "                   'Prior-CCAF': '100-GCCA-Prior'}\n",
    " \n",
    "num_genes_all = [500, 800, 1000, 3000]\n",
    "folds = [0,1,2,3,4]\n",
    "\n",
    "print(\"Method \\t\\t\\t& \" + \"\\t\\t\\t& \".join([str(x) for x in num_genes_all]))\n",
    "\n",
    "for curr_method in methods_all:\n",
    "    curr_row = [mapping_methods[curr_method]]\n",
    "    for curr_gene in num_genes_all:\n",
    "        for metric in ['F1']:\n",
    "            temp_df = results_df[results_df['Method'] == curr_method]\n",
    "            temp_df = temp_df[temp_df['num_genes'] == curr_gene]\n",
    "            temp_mean = temp_df.mean()[metric]\n",
    "            temp_std = temp_df.std()[metric]\n",
    "            curr_row.append('{0:.2f}'.format(temp_mean*100) +  ' $\\pm$ ' + '{0:.2f}'.format(temp_std*100))\n",
    "    print('\\t & '.join(curr_row) + ' \\\\\\\\' )\n",
    "       "
   ]
  },
  {
   "cell_type": "code",
   "execution_count": null,
   "metadata": {},
   "outputs": [],
   "source": []
  }
 ],
 "metadata": {
  "kernelspec": {
   "display_name": "Python3 (graph-survival)",
   "language": "python",
   "name": "graph_survival"
  },
  "language_info": {
   "codemirror_mode": {
    "name": "ipython",
    "version": 3
   },
   "file_extension": ".py",
   "mimetype": "text/x-python",
   "name": "python",
   "nbconvert_exporter": "python",
   "pygments_lexer": "ipython3",
   "version": "3.6.9"
  }
 },
 "nbformat": 4,
 "nbformat_minor": 2
}
